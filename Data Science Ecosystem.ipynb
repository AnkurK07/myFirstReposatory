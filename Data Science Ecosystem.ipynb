{
 "cells": [
  {
   "cell_type": "markdown",
   "id": "340e575e",
   "metadata": {},
   "source": [
    "# Data Science Tools and Ecosystem"
   ]
  },
  {
   "cell_type": "markdown",
   "id": "b31dbcfc",
   "metadata": {},
   "source": [
    "In this notebook ,Data Science Tools and Ecosystem are summarized."
   ]
  },
  {
   "cell_type": "markdown",
   "id": "a9c51f57",
   "metadata": {},
   "source": [
    "### Some of the popular languages that Data Scientist use are:\n",
    "1.Python\n",
    "2.R\n",
    "3.Java\n",
    "4.Scala\n"
   ]
  },
  {
   "cell_type": "markdown",
   "id": "5ee9e97b",
   "metadata": {},
   "source": [
    "### Some of the commonly used libraries used by Data Scientist include:\n",
    "1.Panda\n",
    "2.Matplotlib\n",
    "3.Seaborn\n",
    "4.Scikit-learn"
   ]
  },
  {
   "cell_type": "markdown",
   "id": "abb70176",
   "metadata": {},
   "source": [
    "|Data Science Tools|\n",
    "-----------------------------\n",
    "|Jupyter NoteBook  |\n",
    "-----------------------------\n",
    "|R and R Studio       |\n",
    "-----------------------------\n",
    "|Git and GitHub       |\n",
    "----------------------------"
   ]
  },
  {
   "cell_type": "markdown",
   "id": "ccd2c638",
   "metadata": {},
   "source": [
    "### Below are a few examples of evaluating arithmetic expressions in Python\n"
   ]
  },
  {
   "cell_type": "code",
   "execution_count": 2,
   "id": "f00d9483",
   "metadata": {},
   "outputs": [
    {
     "data": {
      "text/plain": [
       "17"
      ]
     },
     "execution_count": 2,
     "metadata": {},
     "output_type": "execute_result"
    }
   ],
   "source": [
    "#This a simple arithmetic expression to mutiply then add integers\n",
    "(3*4)+5"
   ]
  },
  {
   "cell_type": "code",
   "execution_count": 3,
   "id": "a7893828",
   "metadata": {},
   "outputs": [
    {
     "data": {
      "text/plain": [
       "3.3333333333333335"
      ]
     },
     "execution_count": 3,
     "metadata": {},
     "output_type": "execute_result"
    }
   ],
   "source": [
    "#This will Convert 200 mionuts in hours by deviding 60.\n",
    "200/60 "
   ]
  },
  {
   "cell_type": "markdown",
   "id": "04e05ace",
   "metadata": {},
   "source": [
    "### Objectives :\n",
    "\n",
    "- List of popular languages in Data Science - Python, Java, Scala, R, C++.\n",
    "- Libraries of Data Science - Matplotlib, Pandas, Numpy, Scipy, Scikit-learn - library.\n",
    "- Popular APIs - REST, TensorFlow.\n",
    "- Data Sets"
   ]
  },
  {
   "cell_type": "markdown",
   "id": "3389e9b9",
   "metadata": {},
   "source": [
    "## Author\n",
    "Ankur Kumar Mandal"
   ]
  },
  {
   "cell_type": "code",
   "execution_count": null,
   "id": "f977d36e",
   "metadata": {},
   "outputs": [],
   "source": []
  }
 ],
 "metadata": {
  "kernelspec": {
   "display_name": "Python 3 (ipykernel)",
   "language": "python",
   "name": "python3"
  },
  "language_info": {
   "codemirror_mode": {
    "name": "ipython",
    "version": 3
   },
   "file_extension": ".py",
   "mimetype": "text/x-python",
   "name": "python",
   "nbconvert_exporter": "python",
   "pygments_lexer": "ipython3",
   "version": "3.9.13"
  }
 },
 "nbformat": 4,
 "nbformat_minor": 5
}
